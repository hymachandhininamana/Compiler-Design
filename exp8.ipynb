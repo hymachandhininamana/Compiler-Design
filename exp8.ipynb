{
  "nbformat": 4,
  "nbformat_minor": 0,
  "metadata": {
    "colab": {
      "provenance": [],
      "authorship_tag": "ABX9TyMOt02D5l8FEzSCZ/ruKTXo",
      "include_colab_link": true
    },
    "kernelspec": {
      "name": "python3",
      "display_name": "Python 3"
    },
    "language_info": {
      "name": "python"
    }
  },
  "cells": [
    {
      "cell_type": "markdown",
      "metadata": {
        "id": "view-in-github",
        "colab_type": "text"
      },
      "source": [
        "<a href=\"https://colab.research.google.com/github/hymachandhininamana/Compiler-Design/blob/main/exp8.ipynb\" target=\"_parent\"><img src=\"https://colab.research.google.com/assets/colab-badge.svg\" alt=\"Open In Colab\"/></a>"
      ]
    },
    {
      "cell_type": "code",
      "source": [
        "# example 1\n",
        "gram = {\n",
        " \"E\":[\"2E2\",\"3E3\",\"4\"]\n",
        "}\n",
        "starting_terminal = \"E\"\n",
        "inp = \"2324232$\"\n",
        "\"\"\"\n",
        "# example 2\n",
        "gram = {\n",
        " \"S\":[\"S+S\",\"S*S\",\"i\"]\n",
        "}\n",
        "starting_terminal = \"S\"\n",
        "inp = \"i+i*i\"\n",
        "\"\"\"\n",
        "stack = \"$\"\n",
        "print(f'{\"Stack\": <15}'+\"|\"+f'{\"Input Buffer\": <15}'+\"|\"+f'Parsing Action')\n",
        "print(f'{\"-\":-<50}')\n",
        "\n",
        "while True:\n",
        " action = True\n",
        " i = 0\n",
        " while i<len(gram[starting_terminal]):\n",
        "  if gram[starting_terminal][i] in stack:\n",
        "   stack = stack.replace(gram[starting_terminal][i],starting_terminal)\n",
        "   print(f'{stack: <15}'+\"|\"+f'{inp: <15}'+\"|\"+f'Reduce S->{gram[starting_terminal][i]}')\n",
        "   i=-1\n",
        "   action = False\n",
        "  i+=1\n",
        " if len(inp)>1:\n",
        "  stack+=inp[0]\n",
        "  inp=inp[1:]\n",
        "  print(f'{stack: <15}'+\"|\"+f'{inp: <15}'+\"|\"+f'Shift')\n",
        "  action = False\n",
        "\n",
        " if inp == \"$\" and stack == (\"$\"+starting_terminal):\n",
        "  print(f'{stack: <15}'+\"|\"+f'{inp: <15}'+\"|\"+f'Accepted')\n",
        "  break\n",
        "\n",
        " if action:\n",
        "  print(f'{stack: <15}'+\"|\"+f'{inp: <15}'+\"|\"+f'Rejected')\n",
        "  break\n"
      ],
      "metadata": {
        "colab": {
          "base_uri": "https://localhost:8080/"
        },
        "id": "6NTBvqbWcx4n",
        "outputId": "fdba2b94-9889-4761-dbab-3fc6fe9958c2"
      },
      "execution_count": 4,
      "outputs": [
        {
          "output_type": "stream",
          "name": "stdout",
          "text": [
            "Stack          |Input Buffer   |Parsing Action\n",
            "--------------------------------------------------\n",
            "$2             |324232$        |Shift\n",
            "$23            |24232$         |Shift\n",
            "$232           |4232$          |Shift\n",
            "$2324          |232$           |Shift\n",
            "$232E          |232$           |Reduce S->4\n",
            "$232E2         |32$            |Shift\n",
            "$23E           |32$            |Reduce S->2E2\n",
            "$23E3          |2$             |Shift\n",
            "$2E            |2$             |Reduce S->3E3\n",
            "$2E2           |$              |Shift\n",
            "$E             |$              |Reduce S->2E2\n",
            "$E             |$              |Accepted\n"
          ]
        }
      ]
    }
  ]
}